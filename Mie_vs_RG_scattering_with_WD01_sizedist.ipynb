{
  "nbformat": 4,
  "nbformat_minor": 0,
  "metadata": {
    "kernelspec": {
      "display_name": "Python 3",
      "language": "python",
      "name": "python3"
    },
    "language_info": {
      "codemirror_mode": {
        "name": "ipython",
        "version": 3
      },
      "file_extension": ".py",
      "mimetype": "text/x-python",
      "name": "python",
      "nbconvert_exporter": "python",
      "pygments_lexer": "ipython3",
      "version": "3.8.5"
    },
    "colab": {
      "name": "Mie_vs_RG_scattering_with_WD01_sizedist.ipynb",
      "provenance": [],
      "collapsed_sections": [],
      "include_colab_link": true
    }
  },
  "cells": [
    {
      "cell_type": "markdown",
      "metadata": {
        "id": "view-in-github",
        "colab_type": "text"
      },
      "source": [
        "<a href=\"https://colab.research.google.com/github/nv-hiep/dust_scattering/blob/main/Mie_vs_RG_scattering_with_WD01_sizedist.ipynb\" target=\"_parent\"><img src=\"https://colab.research.google.com/assets/colab-badge.svg\" alt=\"Open In Colab\"/></a>"
      ]
    },
    {
      "cell_type": "markdown",
      "metadata": {
        "id": "QHUXX7K9Y3b8"
      },
      "source": [
        "# **Cross-sections from the RG-Drude and Mie scattering**\n",
        "\n",
        "*   Step 1: Select grain size distributions (MRN1977 or WD2001) and materials (Silicate or Graphite). **Here I used WD2001**.\n",
        "*   Step 2: Select Scattering models (Rayleigh-Gans RG, Mie) and Materials for cmi models (complex index of refraction models: Drude, Silicate, Graphite, SmallGraphite).\n",
        "*   Step 3: Calculate Scattering Cross-Sections, Scattering Opacity.\n",
        "*   Step 4: Plot\n"
      ]
    },
    {
      "cell_type": "markdown",
      "metadata": {
        "id": "MX_6z0f0XOz5"
      },
      "source": [
        "# 1. Mount the google drive"
      ]
    },
    {
      "cell_type": "code",
      "metadata": {
        "id": "PjjcQSpya_FR",
        "colab": {
          "base_uri": "https://localhost:8080/"
        },
        "outputId": "0d3264a3-ea2a-4dda-9215-79a6d468e1a9"
      },
      "source": [
        "from google.colab import drive\n",
        "drive.mount('/content/gdrive')\n",
        "# !ls"
      ],
      "execution_count": null,
      "outputs": [
        {
          "output_type": "stream",
          "text": [
            "Mounted at /content/gdrive\n"
          ],
          "name": "stdout"
        }
      ]
    },
    {
      "cell_type": "markdown",
      "metadata": {
        "id": "FgfeZe4ivlpb"
      },
      "source": [
        "# 2. Root directory"
      ]
    },
    {
      "cell_type": "code",
      "metadata": {
        "colab": {
          "base_uri": "https://localhost:8080/"
        },
        "id": "kQMxb4XjWxAA",
        "outputId": "8c84dcb0-d8bf-4272-fd50-40b9f82b94bd"
      },
      "source": [
        "cd '/content/gdrive/My Drive/Colab Notebooks/dust'"
      ],
      "execution_count": null,
      "outputs": [
        {
          "output_type": "stream",
          "text": [
            "/content/gdrive/My Drive/Colab Notebooks/dust\n"
          ],
          "name": "stdout"
        }
      ]
    },
    {
      "cell_type": "markdown",
      "metadata": {
        "id": "BDJptlLBvSlN"
      },
      "source": [
        "# 3. Import Libraries\n",
        "\n"
      ]
    },
    {
      "cell_type": "markdown",
      "metadata": {
        "id": "yklgj_pWYdrf"
      },
      "source": [
        "## 3.1 Standard libraries"
      ]
    },
    {
      "cell_type": "code",
      "metadata": {
        "id": "M3cWo7hhc-qO"
      },
      "source": [
        "import os\n",
        "import numpy   as np\n",
        "import seaborn as sns\n",
        "\n",
        "import matplotlib.pyplot as plt\n",
        "plt.style.use('fivethirtyeight')\n",
        "\n",
        "%matplotlib inline  "
      ],
      "execution_count": null,
      "outputs": []
    },
    {
      "cell_type": "markdown",
      "metadata": {
        "id": "y-UgX0B4YmmL"
      },
      "source": [
        "## 3.2 Dust libraries"
      ]
    },
    {
      "cell_type": "code",
      "metadata": {
        "id": "FEQ0k2g3WWwk"
      },
      "source": [
        "import libs.constants    as c\n",
        "\n",
        "from libs                import sizedist\n",
        "from libs.extinction     import scattools"
      ],
      "execution_count": null,
      "outputs": []
    },
    {
      "cell_type": "markdown",
      "metadata": {
        "id": "lj52GvdETSgB"
      },
      "source": [
        "## 4. Set some parameters: dust mass column, energy range, wavelength range"
      ]
    },
    {
      "cell_type": "code",
      "metadata": {
        "id": "haflw1aCTSgB"
      },
      "source": [
        "NH     = 1.e21                                # H column density [H cm^-2]\n",
        "D2G    = 0.009                                # Dust-to-gas ratio\n",
        "M_dust = NH * c.M_p * D2G                     # Dust mass column [g cm^-2]\n",
        "\n",
        "E_range    = np.logspace(-0.6, 1., 20)        # KeV, slow\n",
        "lambda_    = c.HC / E_range                   # [cm]      \n",
        "lambda_    = lambda_ / c.MICRON2CM            # [micron]\n",
        "lambda_inv = 1. / lambda_                     # [um^-1]"
      ],
      "execution_count": null,
      "outputs": []
    },
    {
      "cell_type": "markdown",
      "metadata": {
        "id": "JfFi63KTTSgC"
      },
      "source": [
        "# 5. Grain size distributions and materials"
      ]
    },
    {
      "cell_type": "markdown",
      "metadata": {
        "id": "AubimNhQ0B05"
      },
      "source": [
        "**Here I used WD2001**.\n",
        "\n",
        "See Mie_vs_RG_scattering_with_MRN77_sizedist.ipynb for the MRN1977 model"
      ]
    },
    {
      "cell_type": "code",
      "metadata": {
        "id": "3bbt5OEoTSgC"
      },
      "source": [
        "# WD2001 model\n",
        "WD01_MW_sil_bc6 = sizedist.WD01(bc=6., graintype='Silicate')\n",
        "WD01_MW_gra_bc6 = sizedist.WD01(bc=6., graintype='Graphite')"
      ],
      "execution_count": null,
      "outputs": []
    },
    {
      "cell_type": "markdown",
      "metadata": {
        "id": "edV1PGfdTSgC"
      },
      "source": [
        "# 6. Grain scattering models"
      ]
    },
    {
      "cell_type": "markdown",
      "metadata": {
        "id": "w7GNlP13TSgC"
      },
      "source": [
        "Select from:\n",
        "*   Scattering models: RG, Mie\n",
        "*   Materials for models odels of the complex index of refraction: Drude, Silicate, Graphite, SmallGraphite"
      ]
    },
    {
      "cell_type": "code",
      "metadata": {
        "id": "xofIlc48TSgC"
      },
      "source": [
        "RG_Drude = scattools.create_scat_model('RG','Drude')\n",
        "Mie_sil  = scattools.create_scat_model('Mie','Silicate')\n",
        "Mie_gra  = scattools.create_scat_model('Mie','Graphite')"
      ],
      "execution_count": null,
      "outputs": []
    },
    {
      "cell_type": "code",
      "metadata": {
        "colab": {
          "base_uri": "https://localhost:8080/"
        },
        "id": "DX9nJP4pTSgD",
        "outputId": "89570d7f-ba4b-419b-e1a5-0ea0d02cd5e8"
      },
      "source": [
        "print(RG_Drude.__dict__.keys())\n",
        "print(type(RG_Drude.scat_model))\n",
        "print(type(RG_Drude.cmindex_model))"
      ],
      "execution_count": null,
      "outputs": [
        {
          "output_type": "stream",
          "text": [
            "dict_keys(['scat_model', 'cmindex_model', 'scat_type', 'cmindex_type'])\n",
            "<class 'libs.extinction.scatmodels.RGscat'>\n",
            "<class 'libs.composition.cmindex.CmDrude'>\n"
          ],
          "name": "stdout"
        }
      ]
    },
    {
      "cell_type": "markdown",
      "metadata": {
        "id": "cbcHj7mPTSgG"
      },
      "source": [
        "# 7. Scattering cross-sections\n",
        "\n",
        "<!-- $$\\kappa = \\frac{1}{M_d}\\ \\int \\sigma\\ \\frac{dn}{da}\\ da $$ -->"
      ]
    },
    {
      "cell_type": "code",
      "metadata": {
        "id": "OMIGybsNTSgH",
        "colab": {
          "base_uri": "https://localhost:8080/"
        },
        "outputId": "74ac64b5-2d19-44cf-caac-7e0f015f9b13"
      },
      "source": [
        "%%time\n",
        "RGD_sil_kappa = scattools.KappaScat(E=E_range, dist=WD01_MW_sil_bc6, scatm=RG_Drude)"
      ],
      "execution_count": null,
      "outputs": [
        {
          "output_type": "stream",
          "text": [
            "CPU times: user 10.5 ms, sys: 0 ns, total: 10.5 ms\n",
            "Wall time: 13.4 ms\n"
          ],
          "name": "stdout"
        }
      ]
    },
    {
      "cell_type": "code",
      "metadata": {
        "colab": {
          "base_uri": "https://localhost:8080/"
        },
        "id": "-gcOqr93AQGS",
        "outputId": "b4690ff6-793b-43e8-9b94-5c6162f25cd9"
      },
      "source": [
        "%%time\n",
        "RGD_gra_kappa = scattools.KappaScat(E=E_range, dist=WD01_MW_gra_bc6, scatm=RG_Drude)"
      ],
      "execution_count": null,
      "outputs": [
        {
          "output_type": "stream",
          "text": [
            "CPU times: user 10.3 ms, sys: 1.11 ms, total: 11.4 ms\n",
            "Wall time: 13.5 ms\n"
          ],
          "name": "stdout"
        }
      ]
    },
    {
      "cell_type": "code",
      "metadata": {
        "colab": {
          "base_uri": "https://localhost:8080/"
        },
        "id": "IQ-UyKybTSgH",
        "outputId": "67a5f792-bea5-4fa9-9c37-e3036e8f0f33"
      },
      "source": [
        "%%time\n",
        "Mie_sil_kappa = scattools.KappaScat(E=E_range, dist=WD01_MW_sil_bc6, scatm=Mie_sil)"
      ],
      "execution_count": null,
      "outputs": [
        {
          "output_type": "stream",
          "text": [
            "CPU times: user 3min 1s, sys: 49.1 ms, total: 3min 1s\n",
            "Wall time: 3min 1s\n"
          ],
          "name": "stdout"
        }
      ]
    },
    {
      "cell_type": "code",
      "metadata": {
        "colab": {
          "base_uri": "https://localhost:8080/"
        },
        "id": "Qo1cGWGWTSgI",
        "outputId": "72930031-bf29-4067-a43d-acf2a95ac807"
      },
      "source": [
        "%%time\n",
        "Mie_gra_kappa = scattools.KappaScat(E=E_range, dist=WD01_MW_gra_bc6, scatm=Mie_gra)"
      ],
      "execution_count": null,
      "outputs": [
        {
          "output_type": "stream",
          "text": [
            "CPU times: user 6min, sys: 179 ms, total: 6min\n",
            "Wall time: 6min\n"
          ],
          "name": "stdout"
        }
      ]
    },
    {
      "cell_type": "markdown",
      "metadata": {
        "id": "rutENcw6TSgI"
      },
      "source": [
        "# 8. Plot"
      ]
    },
    {
      "cell_type": "markdown",
      "metadata": {
        "id": "vZCiZSdG0ZlG"
      },
      "source": [
        "M_dust : mass density of dust [in this case : g cm^-2]\n",
        "\n",
        "nd     : number density of dust [in this case: cm^-2]\n",
        "\n",
        "rho    : dust grain material density [g cm^-3]\n",
        "\n",
        "\n"
      ]
    },
    {
      "cell_type": "markdown",
      "metadata": {
        "id": "LdYaZqzMzY30"
      },
      "source": [
        "$$\\kappa = \\frac{1}{M_{dust}}\\ \\int \\sigma_{sca}\\ \\frac{dn}{da}\\ da $$"
      ]
    },
    {
      "cell_type": "markdown",
      "metadata": {
        "id": "e7iRJ1t7za8U"
      },
      "source": [
        "$$\\kappa = \\pi a^2 Q_{sca} N_{dust} / M_{dust} = \\sigma_{sca} * N_{dust} / M_{dust}$$"
      ]
    },
    {
      "cell_type": "markdown",
      "metadata": {
        "id": "cECmkkHtzfZD"
      },
      "source": [
        "$$\\kappa = \\tau_{sca}/M_{dust}$$"
      ]
    },
    {
      "cell_type": "markdown",
      "metadata": {
        "id": "8jEvANN3zh6c"
      },
      "source": [
        "$$M_{dust} = N_H * m_p * d2g$$"
      ]
    },
    {
      "cell_type": "markdown",
      "metadata": {
        "id": "CTt5wkly7Q8m"
      },
      "source": [
        "Multiply <code>kappa</code> by the dust mass to get the total opacity."
      ]
    },
    {
      "cell_type": "code",
      "metadata": {
        "id": "nANQ2D_ATSgJ"
      },
      "source": [
        "def plot_(ax, obj, **kwargs):\n",
        "\n",
        "  tau_sca = 1.e21 * obj.kappa * obj.dist.md\n",
        "  ax.plot(obj.E, tau_sca, **kwargs)\n",
        "\n",
        "  ax.tick_params(labelsize=15)\n",
        "  ax.set_xlabel('Energy (keV)', size=15)\n",
        "  ax.set_ylabel(r'Scattering Opacity ($\\tau$)', size=15)"
      ],
      "execution_count": null,
      "outputs": []
    },
    {
      "cell_type": "code",
      "metadata": {
        "colab": {
          "base_uri": "https://localhost:8080/",
          "height": 624
        },
        "id": "eXh9ouldTSgJ",
        "outputId": "4e078783-d23b-4bd7-9863-e68409c90a2c"
      },
      "source": [
        "plt.figure( figsize=(10, 10) )\n",
        "ax = plt.subplot(111)\n",
        "\n",
        "plot_(ax, RGD_sil_kappa, color='k', lw=2, alpha=0.8, label='RG-Drude - Silicate')\n",
        "plot_(ax, RGD_gra_kappa, color='k', lw=2, ls='--', alpha=0.8, label='RG-Drude - Graphite')\n",
        "plot_(ax, Mie_sil_kappa, marker='o', color='r', lw=2, alpha=0.5, label='Mie-Silicate')\n",
        "plot_(ax, Mie_gra_kappa, marker='o', color='b', lw=2, alpha=0.5, label='Mie-Graphite')\n",
        "plt.legend(loc='upper right', frameon=False)\n",
        "plt.loglog()\n",
        "\n",
        "plt.xlim(0.2, 12.)\n",
        "plt.ylim(1.e-4, 1.)\n",
        "\n",
        "plt.legend()\n",
        "plt.show()"
      ],
      "execution_count": null,
      "outputs": [
        {
          "output_type": "display_data",
          "data": {
            "image/png": "[encoded data removed]",
            "text/plain": [
              "<Figure size 720x720 with 1 Axes>"
            ]
          },
          "metadata": {
            "tags": [],
            "needs_background": "light"
          }
        }
      ]
    }
  ]
}