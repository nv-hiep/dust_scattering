{
  "nbformat": 4,
  "nbformat_minor": 0,
  "metadata": {
    "colab": {
      "name": "albedo_LMC_SMC_Mie.ipynb",
      "provenance": [],
      "collapsed_sections": [],
      "include_colab_link": true
    },
    "kernelspec": {
      "display_name": "Python 3",
      "language": "python",
      "name": "python3"
    },
    "language_info": {
      "codemirror_mode": {
        "name": "ipython",
        "version": 3
      },
      "file_extension": ".py",
      "mimetype": "text/x-python",
      "name": "python",
      "nbconvert_exporter": "python",
      "pygments_lexer": "ipython3",
      "version": "3.8.5"
    }
  },
  "cells": [
    {
      "cell_type": "markdown",
      "metadata": {
        "id": "view-in-github",
        "colab_type": "text"
      },
      "source": [
        "<a href=\"https://colab.research.google.com/github/nv-hiep/dust_scattering/blob/main/albedo_LMC_SMC_Mie.ipynb\" target=\"_parent\"><img src=\"https://colab.research.google.com/assets/colab-badge.svg\" alt=\"Open In Colab\"/></a>"
      ]
    },
    {
      "cell_type": "markdown",
      "metadata": {
        "id": "QHUXX7K9Y3b8"
      },
      "source": [
        "# **Albedo for various size distributions - SMC & LMC - Mie scaterring**\n",
        "\n",
        "In WD2001 models:\n",
        "\n",
        "**Case A: variable grain volumes.**\n",
        "\n",
        "**Case B: fixed total grain volumes.**\n",
        "\n",
        "V_total,g = 2.3 x 10^(-27) cm^3 H^(-1)\n",
        "\n",
        "V_total,g = 3.9 x 10^(-27) cm^3 H^(-1)."
      ]
    },
    {
      "cell_type": "markdown",
      "metadata": {
        "id": "MX_6z0f0XOz5"
      },
      "source": [
        "# 1. Mount the google drive"
      ]
    },
    {
      "cell_type": "code",
      "metadata": {
        "colab": {
          "base_uri": "https://localhost:8080/"
        },
        "id": "PjjcQSpya_FR",
        "outputId": "51e7092b-71a6-4963-bade-2b40033b3991"
      },
      "source": [
        "from google.colab import drive\n",
        "drive.mount('/content/gdrive')\n",
        "# !ls"
      ],
      "execution_count": 1,
      "outputs": [
        {
          "output_type": "stream",
          "text": [
            "Mounted at /content/gdrive\n"
          ],
          "name": "stdout"
        }
      ]
    },
    {
      "cell_type": "markdown",
      "metadata": {
        "id": "FgfeZe4ivlpb"
      },
      "source": [
        "# 2. Root directory"
      ]
    },
    {
      "cell_type": "code",
      "metadata": {
        "colab": {
          "base_uri": "https://localhost:8080/"
        },
        "id": "kQMxb4XjWxAA",
        "outputId": "dc7b141a-e799-4b7e-c92b-ec9418ab0870"
      },
      "source": [
        "cd '/content/gdrive/My Drive/Colab Notebooks/dust'"
      ],
      "execution_count": 2,
      "outputs": [
        {
          "output_type": "stream",
          "text": [
            "/content/gdrive/My Drive/Colab Notebooks/dust\n"
          ],
          "name": "stdout"
        }
      ]
    },
    {
      "cell_type": "markdown",
      "metadata": {
        "id": "BDJptlLBvSlN"
      },
      "source": [
        "# 3. Import Libraries\n",
        "\n"
      ]
    },
    {
      "cell_type": "markdown",
      "metadata": {
        "id": "yklgj_pWYdrf"
      },
      "source": [
        "## 3.1 Standard libraries"
      ]
    },
    {
      "cell_type": "code",
      "metadata": {
        "id": "M3cWo7hhc-qO"
      },
      "source": [
        "import os\n",
        "import numpy             as np\n",
        "import matplotlib.pyplot as plt\n",
        "\n",
        "%matplotlib inline  "
      ],
      "execution_count": 3,
      "outputs": []
    },
    {
      "cell_type": "markdown",
      "metadata": {
        "id": "y-UgX0B4YmmL"
      },
      "source": [
        "## 3.2 Dust libraries"
      ]
    },
    {
      "cell_type": "code",
      "metadata": {
        "id": "FEQ0k2g3WWwk"
      },
      "source": [
        "import libs.constants    as c\n",
        "\n",
        "from libs                import sizedist\n",
        "from libs.extinction     import scattools"
      ],
      "execution_count": 4,
      "outputs": []
    },
    {
      "cell_type": "markdown",
      "metadata": {
        "id": "lj52GvdETSgB"
      },
      "source": [
        "## 4. Set some parameters: dust mass column, energy range, wavelength range"
      ]
    },
    {
      "cell_type": "code",
      "metadata": {
        "id": "haflw1aCTSgB",
        "colab": {
          "base_uri": "https://localhost:8080/"
        },
        "outputId": "3963b06d-2c1d-410c-e9bc-e83e5def2c31"
      },
      "source": [
        "NH     = 1.e21                                # H column density [H cm^-2]\n",
        "D2G    = 0.009                                # Dust-to-gas ratio\n",
        "M_dust = NH * c.M_p * D2G                     # Dust mass column [g cm^-2]\n",
        "\n",
        "# E_range    = np.logspace(-0.6, 1., 20)      # KeV, slow\n",
        "E_range    = np.logspace(-4., -1., 100)      # KeV\n",
        "lambda_    = c.HC / E_range                   # [cm]      \n",
        "lambda_    = lambda_ / c.MICRON2CM            # [micron]\n",
        "lambda_inv = 1. / lambda_                     # [um^-1]\n",
        "lambda_"
      ],
      "execution_count": 5,
      "outputs": [
        {
          "output_type": "execute_result",
          "data": {
            "text/plain": [
              "array([12.408     , 11.57174233, 10.79184562, 10.06451135,  9.38619697,\n",
              "        8.75359871,  8.16363545,  7.61343374,  7.10031379,  6.62177641,\n",
              "        6.17549084,  5.75928342,  5.371127  ,  5.00913101,  4.67153235,\n",
              "        4.3566867 ,  4.0630606 ,  3.78922392,  3.53384291,  3.29567372,\n",
              "        3.07355634,  2.86640893,  2.67322256,  2.49305631,  2.32503266,\n",
              "        2.16833324,  2.02219484,  1.88590567,  1.75880194,  1.64026458,\n",
              "        1.52971623,  1.42661848,  1.33046917,  1.2408    ,  1.15717423,\n",
              "        1.07918456,  1.00645113,  0.9386197 ,  0.87535987,  0.81636355,\n",
              "        0.76134337,  0.71003138,  0.66217764,  0.61754908,  0.57592834,\n",
              "        0.5371127 ,  0.5009131 ,  0.46715323,  0.43566867,  0.40630606,\n",
              "        0.37892239,  0.35338429,  0.32956737,  0.30735563,  0.28664089,\n",
              "        0.26732226,  0.24930563,  0.23250327,  0.21683332,  0.20221948,\n",
              "        0.18859057,  0.17588019,  0.16402646,  0.15297162,  0.14266185,\n",
              "        0.13304692,  0.12408   ,  0.11571742,  0.10791846,  0.10064511,\n",
              "        0.09386197,  0.08753599,  0.08163635,  0.07613434,  0.07100314,\n",
              "        0.06621776,  0.06175491,  0.05759283,  0.05371127,  0.05009131,\n",
              "        0.04671532,  0.04356687,  0.04063061,  0.03789224,  0.03533843,\n",
              "        0.03295674,  0.03073556,  0.02866409,  0.02673223,  0.02493056,\n",
              "        0.02325033,  0.02168333,  0.02022195,  0.01885906,  0.01758802,\n",
              "        0.01640265,  0.01529716,  0.01426618,  0.01330469,  0.012408  ])"
            ]
          },
          "metadata": {
            "tags": []
          },
          "execution_count": 5
        }
      ]
    },
    {
      "cell_type": "markdown",
      "metadata": {
        "id": "JfFi63KTTSgC"
      },
      "source": [
        "# 5. Grain scattering models"
      ]
    },
    {
      "cell_type": "code",
      "metadata": {
        "colab": {
          "base_uri": "https://localhost:8080/"
        },
        "id": "gStH8eHTrcKQ",
        "outputId": "f868ca06-ec9f-4da5-e65b-08ee770e8275"
      },
      "source": [
        "RG_Drude     = scattools.create_scat_model('RG','Drude')\n",
        "Mie_sil      = scattools.create_scat_model('Mie','Silicate')\n",
        "Mie_gra      = scattools.create_scat_model('Mie','Graphite')\n",
        "Mie_smallgra = scattools.create_scat_model('Mie','SmallGraphite')\n",
        "\n",
        "print(RG_Drude.__dict__.keys())\n",
        "print(type(RG_Drude.scat_model))\n",
        "print(type(RG_Drude.cmindex_model))"
      ],
      "execution_count": 6,
      "outputs": [
        {
          "output_type": "stream",
          "text": [
            "dict_keys(['scat_model', 'cmindex_model', 'scat_type', 'cmindex_type'])\n",
            "<class 'libs.extinction.scatmodels.RGscat'>\n",
            "<class 'libs.composition.cmindex.CmDrude'>\n"
          ],
          "name": "stdout"
        }
      ]
    },
    {
      "cell_type": "markdown",
      "metadata": {
        "id": "0oAcwtr0uCO8"
      },
      "source": [
        "# 6. WD01 albedo for various size distributions"
      ]
    },
    {
      "cell_type": "code",
      "metadata": {
        "id": "PpOdNHGa_X6G"
      },
      "source": [
        "def calc_(kappa_obj):\n",
        "\t    return kappa_obj.kappa * kappa_obj.dist.md"
      ],
      "execution_count": 7,
      "outputs": []
    },
    {
      "cell_type": "code",
      "metadata": {
        "id": "KyVqUlb5u6XD"
      },
      "source": [
        "# LMC - AVG\n",
        "Rv = 2.6\n",
        "bc = 2.\n",
        "LMC_AVG_sil = sizedist.WD01(Rv=Rv, graintype='Silicate', bc=bc, gal='LMC', LMCcase='AVG')\n",
        "LMC_AVG_vsg = sizedist.WD01(Rv=Rv, graintype='Graphite', bc=bc, graphitetype='VSG', gal='LMC', LMCcase='AVG')\n",
        "LMC_AVG_car = sizedist.WD01(Rv=Rv, graintype='Graphite', bc=bc, graphitetype='Carbonaceous', gal='LMC', LMCcase='AVG')\n",
        "\n",
        "# Q_extinction\n",
        "sil_kappa   = scattools.KappaExt(E=E_range, scatm=Mie_sil, dist=LMC_AVG_sil)\n",
        "vsg_kappa   = scattools.KappaExt(E=E_range, scatm=Mie_gra, dist=LMC_AVG_vsg)\n",
        "car_kappa   = scattools.KappaExt(E=E_range, scatm=Mie_gra, dist=LMC_AVG_car)\n",
        "\n",
        "y1_ext = calc_(sil_kappa) + calc_(vsg_kappa) + calc_(car_kappa)\n",
        "\n",
        "# Q_scat\n",
        "sil_kappa_scat   = scattools.KappaScat(E=E_range, scatm=Mie_sil, dist=LMC_AVG_sil)\n",
        "vsg_kappa_scat   = scattools.KappaScat(E=E_range, scatm=Mie_gra, dist=LMC_AVG_vsg)\n",
        "car_kappa_scat   = scattools.KappaScat(E=E_range, scatm=Mie_gra, dist=LMC_AVG_car)\n",
        "\n",
        "y1_scat = calc_(sil_kappa_scat) + calc_(vsg_kappa_scat) + calc_(car_kappa_scat)\n",
        "\n",
        "\n",
        "\n",
        "\n",
        "\n",
        "\n",
        "# LMC - 2\n",
        "Rv = 2.6\n",
        "bc = 1.\n",
        "LMC_2_sil = sizedist.WD01(Rv=Rv, graintype='Silicate', bc=bc, gal='LMC', LMCcase='2')\n",
        "LMC_2_vsg = sizedist.WD01(Rv=Rv, graintype='Graphite', bc=bc, graphitetype='VSG', gal='LMC', LMCcase='2')\n",
        "LMC_2_car = sizedist.WD01(Rv=Rv, graintype='Graphite', bc=bc, graphitetype='Carbonaceous', gal='LMC', LMCcase='2')\n",
        "\n",
        "# Q_extinction\n",
        "sil_kappa   = scattools.KappaExt(E=E_range, scatm=Mie_sil, dist=LMC_2_sil)\n",
        "vsg_kappa   = scattools.KappaExt(E=E_range, scatm=Mie_gra, dist=LMC_2_vsg)\n",
        "car_kappa   = scattools.KappaExt(E=E_range, scatm=Mie_gra, dist=LMC_2_car)\n",
        "\n",
        "y2_ext = calc_(sil_kappa) + calc_(vsg_kappa) + calc_(car_kappa)\n",
        "\n",
        "# Q_scat\n",
        "sil_kappa_scat   = scattools.KappaScat(E=E_range, scatm=Mie_sil, dist=LMC_2_sil)\n",
        "vsg_kappa_scat   = scattools.KappaScat(E=E_range, scatm=Mie_gra, dist=LMC_2_vsg)\n",
        "car_kappa_scat   = scattools.KappaScat(E=E_range, scatm=Mie_gra, dist=LMC_2_car)\n",
        "\n",
        "y2_scat = calc_(sil_kappa_scat) + calc_(vsg_kappa_scat) + calc_(car_kappa_scat)"
      ],
      "execution_count": 8,
      "outputs": []
    },
    {
      "cell_type": "code",
      "metadata": {
        "id": "xigxfR-qeNw2"
      },
      "source": [
        "# For SMC\n",
        "Rv = 2.87\n",
        "bc = 0.\n",
        "SMC_sil = sizedist.WD01(Rv=Rv, graintype='Silicate', bc=bc, gal='SMC')\n",
        "SMC_vsg = sizedist.WD01(Rv=Rv, graintype='Graphite', bc=bc, graphitetype='VSG', gal='SMC')\n",
        "SMC_car = sizedist.WD01(Rv=Rv, graintype='Graphite', bc=bc, graphitetype='Carbonaceous', gal='SMC')\n",
        "\n",
        "# Q_extinction\n",
        "sil_kappa   = scattools.KappaExt(E=E_range, scatm=Mie_sil, dist=SMC_sil)\n",
        "vsg_kappa   = scattools.KappaExt(E=E_range, scatm=Mie_gra, dist=SMC_vsg)\n",
        "car_kappa   = scattools.KappaExt(E=E_range, scatm=Mie_gra, dist=SMC_car)\n",
        "\n",
        "y3_ext = calc_(sil_kappa) + calc_(vsg_kappa) + calc_(car_kappa)\n",
        "\n",
        "# Q_scat\n",
        "sil_kappa_scat   = scattools.KappaScat(E=E_range, scatm=Mie_sil, dist=SMC_sil)\n",
        "vsg_kappa_scat   = scattools.KappaScat(E=E_range, scatm=Mie_gra, dist=SMC_vsg)\n",
        "car_kappa_scat   = scattools.KappaScat(E=E_range, scatm=Mie_gra, dist=SMC_car)\n",
        "\n",
        "y3_scat = calc_(sil_kappa_scat) + calc_(vsg_kappa_scat) + calc_(car_kappa_scat)"
      ],
      "execution_count": 9,
      "outputs": []
    },
    {
      "cell_type": "code",
      "metadata": {
        "colab": {
          "base_uri": "https://localhost:8080/",
          "height": 522
        },
        "id": "eGn-XeZEDjcA",
        "outputId": "cae61e2a-346b-4710-b3b6-4f2659c888c9"
      },
      "source": [
        "# Plot extinction curves\n",
        "plt.figure( figsize=(10,8) )\n",
        "ax = plt.subplot(111)\n",
        "\n",
        "ax.plot(lambda_, y1_scat/y1_ext, 'k-', lw=2, alpha=1, label=r'$R_V=2.6, bc=2 \\times 10^{-5}$, LMC-AVG')\n",
        "ax.plot(lambda_, y2_scat/y2_ext, 'k-.', lw=2, alpha=1, label=r'$R_V=2.6, bc=1 \\times 10^{-5}$, LMC-2')\n",
        "ax.plot(lambda_, y3_scat/y3_ext, 'k:', lw=2, alpha=1, label=r'$R_V=2.87, bc=0 \\times 10^{-5}$, SMC bar')\n",
        "\n",
        "# ax.text(1., 0.1, 'Case A', fontsize=14)\n",
        "\n",
        "ax.tick_params(labelsize=14)\n",
        "ax.set_xlabel(r'$\\lambda$ ($\\mu$m)', size=15)\n",
        "ax.set_ylabel(r'Albedo ($Q_{sca}/Q_{ext}$)', size=15)\n",
        "\n",
        "plt.legend(loc='lower left', frameon=False, fontsize=14)\n",
        "plt.loglog()\n",
        "# plt.xscale('log')\n",
        "plt.xlim(0.02, 10.)\n",
        "plt.ylim(0.05, 1.)\n",
        "# plt.grid()\n",
        "plt.show()"
      ],
      "execution_count": 10,
      "outputs": [
        {
          "output_type": "display_data",
          "data": {
            "image/png": "[encoded data removed]",
            "text/plain": [
              "<Figure size 720x576 with 1 Axes>"
            ]
          },
          "metadata": {
            "tags": [],
            "needs_background": "light"
          }
        }
      ]
    }
  ]
}